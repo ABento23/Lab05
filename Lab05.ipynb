{
 "cells": [
  {
   "cell_type": "code",
   "execution_count": 91,
   "metadata": {},
   "outputs": [],
   "source": [
    "import requests\n",
    "url = 'https://raw.githubusercontent.com/masterfloss/data/main/jobs.txt'\n",
    "response = requests.get(url)\n",
    "speech = response.text"
   ]
  },
  {
   "cell_type": "code",
   "execution_count": 92,
   "metadata": {},
   "outputs": [
    {
     "data": {
      "text/plain": [
       "str"
      ]
     },
     "execution_count": 92,
     "metadata": {},
     "output_type": "execute_result"
    }
   ],
   "source": [
    "#2 string\n",
    "type(speech)"
   ]
  },
  {
   "cell_type": "code",
   "execution_count": 93,
   "metadata": {},
   "outputs": [],
   "source": [
    "#3\n",
    "symbols = ['.', ',', '?', ':', ';', '\\n', '\\n\\n', '\\ ', '\"', '-']\n",
    "\n",
    "for symbol in symbols:\n",
    "    speech = speech.replace(symbol,'')\n",
    "speech = speech.lower()"
   ]
  },
  {
   "cell_type": "code",
   "execution_count": 94,
   "metadata": {},
   "outputs": [],
   "source": [
    "#4\n",
    "lista = speech.split()"
   ]
  },
  {
   "cell_type": "code",
   "execution_count": 95,
   "metadata": {},
   "outputs": [],
   "source": [
    "#5\n",
    "dicionario = {}\n",
    "for word in lista:\n",
    "    if word in dicionario:\n",
    "        dicionario[word] += 1\n",
    "    else:\n",
    "        dicionario[word] = 1"
   ]
  },
  {
   "cell_type": "code",
   "execution_count": 96,
   "metadata": {},
   "outputs": [],
   "source": [
    "#6\n",
    "ordenadoA = dict(sorted(dicionario.items()))"
   ]
  },
  {
   "cell_type": "code",
   "execution_count": 97,
   "metadata": {},
   "outputs": [
    {
     "name": "stdout",
     "output_type": "stream",
     "text": [
      "727 / 2229\n"
     ]
    }
   ],
   "source": [
    "#7\n",
    "total = len(lista)\n",
    "diferentes = len(dicionario)\n",
    "print(diferentes,'/',total)"
   ]
  },
  {
   "cell_type": "code",
   "execution_count": 102,
   "metadata": {},
   "outputs": [
    {
     "name": "stdout",
     "output_type": "stream",
     "text": [
      "The most frequent word is the that appears 97 times.\n"
     ]
    }
   ],
   "source": [
    "#8\n",
    "frequency = 0\n",
    "W = []\n",
    "for word in dicionario:\n",
    "    if dicionario[word] > frequency:\n",
    "        frequency = dicionario[word]\n",
    "        W.clear()\n",
    "        W.append(word)\n",
    "    elif dicionario[word] == frequency:\n",
    "        W.append(word)\n",
    "\n",
    "if len(W) == 1:\n",
    "    print('The most frequent word is',W[0],'that appears',frequency,'times.')\n",
    "else:\n",
    "    print('The most frequent words are ')\n",
    "    for word in W:\n",
    "        print(word)\n",
    "    print('that appear',frequency,'times.')"
   ]
  },
  {
   "cell_type": "code",
   "execution_count": 99,
   "metadata": {},
   "outputs": [],
   "source": [
    "#9\n",
    "aux = sorted(dicionario.items(), key = lambda item: item[1])\n",
    "aux.reverse()\n",
    "ordenadoB = dict(aux)"
   ]
  },
  {
   "cell_type": "code",
   "execution_count": 100,
   "metadata": {},
   "outputs": [
    {
     "data": {
      "text/plain": [
       "5"
      ]
     },
     "execution_count": 100,
     "metadata": {},
     "output_type": "execute_result"
    }
   ],
   "source": [
    "#10\n",
    "count = 0\n",
    "for word in ordenadoB:\n",
    "    if ordenadoB[word] > 50:\n",
    "        count += 1\n",
    "    else:\n",
    "        break\n",
    "count"
   ]
  },
  {
   "cell_type": "code",
   "execution_count": null,
   "metadata": {},
   "outputs": [],
   "source": []
  }
 ],
 "metadata": {
  "kernelspec": {
   "display_name": "Python 3",
   "language": "python",
   "name": "python3"
  },
  "language_info": {
   "codemirror_mode": {
    "name": "ipython",
    "version": 3
   },
   "file_extension": ".py",
   "mimetype": "text/x-python",
   "name": "python",
   "nbconvert_exporter": "python",
   "pygments_lexer": "ipython3",
   "version": "3.7.3"
  }
 },
 "nbformat": 4,
 "nbformat_minor": 4
}
